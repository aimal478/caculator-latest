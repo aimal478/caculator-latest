{
  "nbformat": 4,
  "nbformat_minor": 0,
  "metadata": {
    "colab": {
      "provenance": [],
      "authorship_tag": "ABX9TyPBtAy5p/EXEuR43LTY/GJ7",
      "include_colab_link": true
    },
    "kernelspec": {
      "name": "python3",
      "display_name": "Python 3"
    },
    "language_info": {
      "name": "python"
    }
  },
  "cells": [
    {
      "cell_type": "markdown",
      "metadata": {
        "id": "view-in-github",
        "colab_type": "text"
      },
      "source": [
        "<a href=\"https://colab.research.google.com/github/aimal478/caculator-latest/blob/main/calculator_1.ipynb\" target=\"_parent\"><img src=\"https://colab.research.google.com/assets/colab-badge.svg\" alt=\"Open In Colab\"/></a>"
      ]
    },
    {
      "cell_type": "code",
      "execution_count": 1,
      "metadata": {
        "colab": {
          "base_uri": "https://localhost:8080/"
        },
        "id": "OzKtG4xEWr_W",
        "outputId": "c1c62c7a-e8e4-446e-e835-657d8a067bac"
      },
      "outputs": [
        {
          "output_type": "stream",
          "name": "stdout",
          "text": [
            "Welcome to Simple Calculator!\n",
            "Choose the operation:\n",
            "1. Addition (+)\n",
            "2. Subtraction (-)\n",
            "3. Multiplication (*)\n",
            "4. Division (/)\n",
            "Enter your choice (1/2/3/4): 1\n",
            "Enter first number: 4\n",
            "Enter second number: 3\n",
            "4.0 + 3.0 = 7.0\n"
          ]
        }
      ],
      "source": [
        "# Simple Calculator in Python (Google Colab)\n",
        "\n",
        "def calculator():\n",
        "    print(\"Welcome to Simple Calculator!\")\n",
        "    print(\"Choose the operation:\")\n",
        "    print(\"1. Addition (+)\")\n",
        "    print(\"2. Subtraction (-)\")\n",
        "    print(\"3. Multiplication (*)\")\n",
        "    print(\"4. Division (/)\")\n",
        "\n",
        "    # Get user choice\n",
        "    choice = input(\"Enter your choice (1/2/3/4): \")\n",
        "\n",
        "    if choice in ('1', '2', '3', '4'):\n",
        "        # Get user inputs\n",
        "        num1 = float(input(\"Enter first number: \"))\n",
        "        num2 = float(input(\"Enter second number: \"))\n",
        "\n",
        "        # Perform calculation\n",
        "        if choice == '1':\n",
        "            print(f\"{num1} + {num2} = {num1 + num2}\")\n",
        "        elif choice == '2':\n",
        "            print(f\"{num1} - {num2} = {num1 - num2}\")\n",
        "        elif choice == '3':\n",
        "            print(f\"{num1} * {num2} = {num1 * num2}\")\n",
        "        elif choice == '4':\n",
        "            if num2 != 0:\n",
        "                print(f\"{num1} / {num2} = {num1 / num2}\")\n",
        "            else:\n",
        "                print(\"Error: Division by zero is not allowed!\")\n",
        "    else:\n",
        "        print(\"Invalid input. Please try again.\")\n",
        "\n",
        "# Run the calculator\n",
        "calculator()\n"
      ]
    },
    {
      "cell_type": "code",
      "source": [
        "import streamlit as st\n",
        "\n",
        "# Streamlit App\n",
        "st.title(\"Simple Calculator\")\n",
        "\n",
        "st.write(\"Choose the operation and enter numbers below:\")\n",
        "\n",
        "# Input numbers\n",
        "num1 = st.number_input(\"Enter first number\", value=0.0, step=1.0)\n",
        "num2 = st.number_input(\"Enter second number\", value=0.0, step=1.0)\n",
        "\n",
        "# Operation selection\n",
        "operation = st.selectbox(\"Select Operation\", (\"Addition\", \"Subtraction\", \"Multiplication\", \"Division\"))\n",
        "\n",
        "# Perform calculation\n",
        "if st.button(\"Calculate\"):\n",
        "    if operation == \"Addition\":\n",
        "        result = num1 + num2\n",
        "        st.success(f\"Result: {num1} + {num2} = {result}\")\n",
        "    elif operation == \"Subtraction\":\n",
        "        result = num1 - num2\n",
        "        st.success(f\"Result: {num1} - {num2} = {result}\")\n",
        "    elif operation == \"Multiplication\":\n",
        "        result = num1 * num2\n",
        "        st.success(f\"Result: {num1} * {num2} = {result}\")\n",
        "    elif operation == \"Division\":\n",
        "        if num2 != 0:\n",
        "            result = num1 / num2\n",
        "            st.success(f\"Result: {num1} / {num2} = {result}\")\n",
        "        else:\n",
        "            st.error(\"Error: Division by zero is not allowed!\")\n",
        "\n"
      ],
      "metadata": {
        "colab": {
          "base_uri": "https://localhost:8080/",
          "height": 401
        },
        "id": "VOQ_IznYXA5v",
        "outputId": "59514e73-d862-4a36-8561-7f13c74da55f"
      },
      "execution_count": 3,
      "outputs": [
        {
          "output_type": "error",
          "ename": "ModuleNotFoundError",
          "evalue": "No module named 'streamlit'",
          "traceback": [
            "\u001b[0;31m---------------------------------------------------------------------------\u001b[0m",
            "\u001b[0;31mModuleNotFoundError\u001b[0m                       Traceback (most recent call last)",
            "\u001b[0;32m<ipython-input-3-110085aa1c80>\u001b[0m in \u001b[0;36m<cell line: 0>\u001b[0;34m()\u001b[0m\n\u001b[0;32m----> 1\u001b[0;31m \u001b[0;32mimport\u001b[0m \u001b[0mstreamlit\u001b[0m \u001b[0;32mas\u001b[0m \u001b[0mst\u001b[0m\u001b[0;34m\u001b[0m\u001b[0;34m\u001b[0m\u001b[0m\n\u001b[0m\u001b[1;32m      2\u001b[0m \u001b[0;34m\u001b[0m\u001b[0m\n\u001b[1;32m      3\u001b[0m \u001b[0;31m# Streamlit App\u001b[0m\u001b[0;34m\u001b[0m\u001b[0;34m\u001b[0m\u001b[0m\n\u001b[1;32m      4\u001b[0m \u001b[0mst\u001b[0m\u001b[0;34m.\u001b[0m\u001b[0mtitle\u001b[0m\u001b[0;34m(\u001b[0m\u001b[0;34m\"Simple Calculator\"\u001b[0m\u001b[0;34m)\u001b[0m\u001b[0;34m\u001b[0m\u001b[0;34m\u001b[0m\u001b[0m\n\u001b[1;32m      5\u001b[0m \u001b[0;34m\u001b[0m\u001b[0m\n",
            "\u001b[0;31mModuleNotFoundError\u001b[0m: No module named 'streamlit'",
            "",
            "\u001b[0;31m---------------------------------------------------------------------------\u001b[0;32m\nNOTE: If your import is failing due to a missing package, you can\nmanually install dependencies using either !pip or !apt.\n\nTo view examples of installing some common dependencies, click the\n\"Open Examples\" button below.\n\u001b[0;31m---------------------------------------------------------------------------\u001b[0m\n"
          ],
          "errorDetails": {
            "actions": [
              {
                "action": "open_url",
                "actionText": "Open Examples",
                "url": "/notebooks/snippets/importing_libraries.ipynb"
              }
            ]
          }
        }
      ]
    },
    {
      "cell_type": "code",
      "source": [
        "import streamlit as st\n",
        "\n",
        "# Streamlit App\n",
        "st.title(\"Simple Calculator\")\n",
        "\n",
        "st.write(\"Choose the operation and enter numbers below:\")\n",
        "\n",
        "# Input numbers\n",
        "num1 = st.number_input(\"Enter first number\", value=0.0, step=1.0)\n",
        "num2 = st.number_input(\"Enter second number\", value=0.0, step=1.0)\n",
        "\n",
        "# Operation selection\n",
        "operation = st.selectbox(\"Select Operation\", (\"Addition\", \"Subtraction\", \"Multiplication\", \"Division\"))\n",
        "\n",
        "# Perform calculation\n",
        "if st.button(\"Calculate\"):\n",
        "    if operation == \"Addition\":\n",
        "        result = num1 + num2\n",
        "        st.success(f\"Result: {num1} + {num2} = {result}\")\n",
        "    elif operation == \"Subtraction\":\n",
        "        result = num1 - num2\n",
        "        st.success(f\"Result: {num1} - {num2} = {result}\")\n",
        "    elif operation == \"Multiplication\":\n",
        "        result = num1 * num2\n",
        "        st.success(f\"Result: {num1} * {num2} = {result}\")\n",
        "    elif operation == \"Division\":\n",
        "        if num2 != 0:\n",
        "            result = num1 / num2\n",
        "            st.success(f\"Result: {num1} / {num2} = {result}\")\n",
        "        else:\n",
        "            st.error(\"Error: Division by zero is not allowed!\")\n",
        "\n",
        "\n"
      ],
      "metadata": {
        "colab": {
          "base_uri": "https://localhost:8080/",
          "height": 401
        },
        "id": "qpY_k1iiXZNS",
        "outputId": "9355ec51-31f6-4ee1-e9d9-e74131f6e131"
      },
      "execution_count": 4,
      "outputs": [
        {
          "output_type": "error",
          "ename": "ModuleNotFoundError",
          "evalue": "No module named 'streamlit'",
          "traceback": [
            "\u001b[0;31m---------------------------------------------------------------------------\u001b[0m",
            "\u001b[0;31mModuleNotFoundError\u001b[0m                       Traceback (most recent call last)",
            "\u001b[0;32m<ipython-input-4-53b97acd3104>\u001b[0m in \u001b[0;36m<cell line: 0>\u001b[0;34m()\u001b[0m\n\u001b[0;32m----> 1\u001b[0;31m \u001b[0;32mimport\u001b[0m \u001b[0mstreamlit\u001b[0m \u001b[0;32mas\u001b[0m \u001b[0mst\u001b[0m\u001b[0;34m\u001b[0m\u001b[0;34m\u001b[0m\u001b[0m\n\u001b[0m\u001b[1;32m      2\u001b[0m \u001b[0;34m\u001b[0m\u001b[0m\n\u001b[1;32m      3\u001b[0m \u001b[0;31m# Streamlit App\u001b[0m\u001b[0;34m\u001b[0m\u001b[0;34m\u001b[0m\u001b[0m\n\u001b[1;32m      4\u001b[0m \u001b[0mst\u001b[0m\u001b[0;34m.\u001b[0m\u001b[0mtitle\u001b[0m\u001b[0;34m(\u001b[0m\u001b[0;34m\"Simple Calculator\"\u001b[0m\u001b[0;34m)\u001b[0m\u001b[0;34m\u001b[0m\u001b[0;34m\u001b[0m\u001b[0m\n\u001b[1;32m      5\u001b[0m \u001b[0;34m\u001b[0m\u001b[0m\n",
            "\u001b[0;31mModuleNotFoundError\u001b[0m: No module named 'streamlit'",
            "",
            "\u001b[0;31m---------------------------------------------------------------------------\u001b[0;32m\nNOTE: If your import is failing due to a missing package, you can\nmanually install dependencies using either !pip or !apt.\n\nTo view examples of installing some common dependencies, click the\n\"Open Examples\" button below.\n\u001b[0;31m---------------------------------------------------------------------------\u001b[0m\n"
          ],
          "errorDetails": {
            "actions": [
              {
                "action": "open_url",
                "actionText": "Open Examples",
                "url": "/notebooks/snippets/importing_libraries.ipynb"
              }
            ]
          }
        }
      ]
    },
    {
      "cell_type": "code",
      "source": [
        "import streamlit as st\n",
        "\n",
        "# Streamlit App\n",
        "st.title(\"Simple Calculator\")\n",
        "\n",
        "st.write(\"Choose the operation and enter numbers below:\")\n",
        "\n",
        "# Input numbers\n",
        "num1 = st.number_input(\"Enter first number\", value=0.0, step=1.0)\n",
        "num2 = st.number_input(\"Enter second number\", value=0.0, step=1.0)\n",
        "\n",
        "# Operation selection\n",
        "operation = st.selectbox(\"Select Operation\", (\"Addition\", \"Subtraction\", \"Multiplication\", \"Division\"))\n",
        "\n",
        "# Perform calculation\n",
        "if st.button(\"Calculate\"):\n",
        "    if operation == \"Addition\":\n",
        "        result = num1 + num2\n",
        "        st.success(f\"Result: {num1} + {num2} = {result}\")\n",
        "    elif operation == \"Subtraction\":\n",
        "        result = num1 - num2\n",
        "        st.success(f\"Result: {num1} - {num2} = {result}\")\n",
        "    elif operation == \"Multiplication\":\n",
        "        result = num1 * num2\n",
        "        st.success(f\"Result: {num1} * {num2} = {result}\")\n",
        "    elif operation == \"Division\":\n",
        "        if num2 != 0:\n",
        "            result = num1 / num2\n",
        "            st.success(f\"Result: {num1} / {num2} = {result}\")\n",
        "        else:\n",
        "            st.error(\"Error: Division by zero is not allowed!\")\n"
      ],
      "metadata": {
        "colab": {
          "base_uri": "https://localhost:8080/",
          "height": 401
        },
        "id": "I_cVqgWKYVcn",
        "outputId": "e8e92113-bdd0-4e9f-b096-d0723e51d227"
      },
      "execution_count": 5,
      "outputs": [
        {
          "output_type": "error",
          "ename": "ModuleNotFoundError",
          "evalue": "No module named 'streamlit'",
          "traceback": [
            "\u001b[0;31m---------------------------------------------------------------------------\u001b[0m",
            "\u001b[0;31mModuleNotFoundError\u001b[0m                       Traceback (most recent call last)",
            "\u001b[0;32m<ipython-input-5-3cec5b36c2f4>\u001b[0m in \u001b[0;36m<cell line: 0>\u001b[0;34m()\u001b[0m\n\u001b[0;32m----> 1\u001b[0;31m \u001b[0;32mimport\u001b[0m \u001b[0mstreamlit\u001b[0m \u001b[0;32mas\u001b[0m \u001b[0mst\u001b[0m\u001b[0;34m\u001b[0m\u001b[0;34m\u001b[0m\u001b[0m\n\u001b[0m\u001b[1;32m      2\u001b[0m \u001b[0;34m\u001b[0m\u001b[0m\n\u001b[1;32m      3\u001b[0m \u001b[0;31m# Streamlit App\u001b[0m\u001b[0;34m\u001b[0m\u001b[0;34m\u001b[0m\u001b[0m\n\u001b[1;32m      4\u001b[0m \u001b[0mst\u001b[0m\u001b[0;34m.\u001b[0m\u001b[0mtitle\u001b[0m\u001b[0;34m(\u001b[0m\u001b[0;34m\"Simple Calculator\"\u001b[0m\u001b[0;34m)\u001b[0m\u001b[0;34m\u001b[0m\u001b[0;34m\u001b[0m\u001b[0m\n\u001b[1;32m      5\u001b[0m \u001b[0;34m\u001b[0m\u001b[0m\n",
            "\u001b[0;31mModuleNotFoundError\u001b[0m: No module named 'streamlit'",
            "",
            "\u001b[0;31m---------------------------------------------------------------------------\u001b[0;32m\nNOTE: If your import is failing due to a missing package, you can\nmanually install dependencies using either !pip or !apt.\n\nTo view examples of installing some common dependencies, click the\n\"Open Examples\" button below.\n\u001b[0;31m---------------------------------------------------------------------------\u001b[0m\n"
          ],
          "errorDetails": {
            "actions": [
              {
                "action": "open_url",
                "actionText": "Open Examples",
                "url": "/notebooks/snippets/importing_libraries.ipynb"
              }
            ]
          }
        }
      ]
    }
  ]
}